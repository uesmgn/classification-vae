{
 "cells": [
  {
   "cell_type": "code",
   "execution_count": 7,
   "metadata": {},
   "outputs": [
    {
     "ename": "SyntaxError",
     "evalue": "invalid syntax (<ipython-input-7-bcd24230ad59>, line 1)",
     "output_type": "error",
     "traceback": [
      "\u001b[0;36m  File \u001b[0;32m\"<ipython-input-7-bcd24230ad59>\"\u001b[0;36m, line \u001b[0;32m1\u001b[0m\n\u001b[0;31m    from faiss.faiss as faiss\u001b[0m\n\u001b[0m                      ^\u001b[0m\n\u001b[0;31mSyntaxError\u001b[0m\u001b[0;31m:\u001b[0m invalid syntax\n"
     ]
    }
   ],
   "source": [
    "from faiss as faiss\n",
    "import numpy as np\n",
    "\n",
    "def run_kmeans(x, k, niter):\n",
    "    n_samples, dim = x.shape\n",
    "\n",
    "    clustering = faiss.Kmeans(dim, k, niter, False)\n",
    "    clustering.seed = np.random.randint(1234)\n",
    "\n",
    "    clustering.train(x)\n",
    "    _, I = index.search(x, 1)\n",
    "    losses = faiss.vector_to_array(clustering.obj)\n",
    "    \n",
    "    return [int(n[0]) for n in I], losses[-1]\n",
    "\n",
    "x = np.random.randn(100)\n",
    "y = np.random.randn(100)\n",
    "data = np.array([x, y])\n",
    "run_kmeans(data, 10, 100)"
   ]
  },
  {
   "cell_type": "code",
   "execution_count": null,
   "metadata": {},
   "outputs": [],
   "source": []
  }
 ],
 "metadata": {
  "kernelspec": {
   "display_name": "Python 3",
   "language": "python",
   "name": "python3"
  },
  "language_info": {
   "codemirror_mode": {
    "name": "ipython",
    "version": 3
   },
   "file_extension": ".py",
   "mimetype": "text/x-python",
   "name": "python",
   "nbconvert_exporter": "python",
   "pygments_lexer": "ipython3",
   "version": "3.7.6"
  }
 },
 "nbformat": 4,
 "nbformat_minor": 4
}
